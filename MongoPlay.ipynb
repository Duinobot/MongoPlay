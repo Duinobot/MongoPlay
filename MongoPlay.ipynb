{
 "cells": [
  {
   "cell_type": "code",
   "execution_count": 9,
   "metadata": {},
   "outputs": [],
   "source": [
    "from mongoengine import *"
   ]
  },
  {
   "cell_type": "code",
   "execution_count": 11,
   "metadata": {},
   "outputs": [
    {
     "data": {
      "text/plain": [
       "MongoClient(host=['localhost:27017'], document_class=dict, tz_aware=False, connect=True, read_preference=Primary())"
      ]
     },
     "execution_count": 11,
     "metadata": {},
     "output_type": "execute_result"
    }
   ],
   "source": [
    "connect('learning_mongo')"
   ]
  },
  {
   "cell_type": "code",
   "execution_count": 24,
   "metadata": {},
   "outputs": [],
   "source": [
    "class Restaurants(Document):\n",
    "    address = DictField()\n",
    "    borough = StringField()\n",
    "    cuisine = StringField()\n",
    "    grades = ListField()\n",
    "    name = StringField()\n",
    "    restaurant_id = StringField()"
   ]
  },
  {
   "cell_type": "code",
   "execution_count": 26,
   "metadata": {},
   "outputs": [
    {
     "data": {
      "text/plain": [
       "[<Restaurants: Restaurants object>, <Restaurants: Restaurants object>, <Restaurants: Restaurants object>, <Restaurants: Restaurants object>, <Restaurants: Restaurants object>, <Restaurants: Restaurants object>, <Restaurants: Restaurants object>, <Restaurants: Restaurants object>, <Restaurants: Restaurants object>, <Restaurants: Restaurants object>, <Restaurants: Restaurants object>, <Restaurants: Restaurants object>, <Restaurants: Restaurants object>, <Restaurants: Restaurants object>, <Restaurants: Restaurants object>, <Restaurants: Restaurants object>, <Restaurants: Restaurants object>, <Restaurants: Restaurants object>, <Restaurants: Restaurants object>, <Restaurants: Restaurants object>, '...(remaining elements truncated)...']"
      ]
     },
     "execution_count": 26,
     "metadata": {},
     "output_type": "execute_result"
    }
   ],
   "source": [
    "Restaurants.objects()"
   ]
  },
  {
   "cell_type": "code",
   "execution_count": 29,
   "metadata": {},
   "outputs": [
    {
     "data": {
      "text/plain": [
       "{'building': '2780',\n",
       " 'coord': [-73.98241999999999, 40.579505],\n",
       " 'street': 'Stillwell Avenue',\n",
       " 'zipcode': '11224'}"
      ]
     },
     "execution_count": 29,
     "metadata": {},
     "output_type": "execute_result"
    }
   ],
   "source": [
    "#access single result\n",
    "Restaurants.objects.all()[0].address"
   ]
  },
  {
   "cell_type": "code",
   "execution_count": 34,
   "metadata": {},
   "outputs": [
    {
     "data": {
      "text/plain": [
       "[<Restaurants: Restaurants object>, <Restaurants: Restaurants object>, <Restaurants: Restaurants object>, <Restaurants: Restaurants object>, <Restaurants: Restaurants object>, <Restaurants: Restaurants object>, <Restaurants: Restaurants object>, <Restaurants: Restaurants object>, <Restaurants: Restaurants object>, <Restaurants: Restaurants object>, <Restaurants: Restaurants object>, <Restaurants: Restaurants object>, <Restaurants: Restaurants object>, <Restaurants: Restaurants object>, <Restaurants: Restaurants object>, <Restaurants: Restaurants object>, <Restaurants: Restaurants object>, <Restaurants: Restaurants object>, <Restaurants: Restaurants object>, <Restaurants: Restaurants object>, '...(remaining elements truncated)...']"
      ]
     },
     "execution_count": 34,
     "metadata": {},
     "output_type": "execute_result"
    }
   ],
   "source": [
    "#filter\n",
    "Restaurants.objects.filter(cuisine=\"American \")"
   ]
  },
  {
   "cell_type": "code",
   "execution_count": 36,
   "metadata": {},
   "outputs": [
    {
     "data": {
      "text/plain": [
       "[<Restaurants: Restaurants object>, <Restaurants: Restaurants object>, <Restaurants: Restaurants object>, <Restaurants: Restaurants object>, <Restaurants: Restaurants object>]"
      ]
     },
     "execution_count": 36,
     "metadata": {},
     "output_type": "execute_result"
    }
   ],
   "source": [
    "#silce\n",
    "Restaurants.objects.all()[:5]"
   ]
  },
  {
   "cell_type": "code",
   "execution_count": 37,
   "metadata": {},
   "outputs": [
    {
     "data": {
      "text/plain": [
       "[<Restaurants: Restaurants object>, <Restaurants: Restaurants object>, <Restaurants: Restaurants object>]"
      ]
     },
     "execution_count": 37,
     "metadata": {},
     "output_type": "execute_result"
    }
   ],
   "source": [
    "#silce\n",
    "Restaurants.objects.all()[2:5]"
   ]
  },
  {
   "cell_type": "code",
   "execution_count": 40,
   "metadata": {},
   "outputs": [
    {
     "data": {
      "text/plain": [
       "1370"
      ]
     },
     "execution_count": 40,
     "metadata": {},
     "output_type": "execute_result"
    }
   ],
   "source": [
    "#return result containing \"Ameri\"\n",
    "Restaurants.objects.filter(cuisine__icontains=\"Ameri\").count()"
   ]
  },
  {
   "cell_type": "code",
   "execution_count": 57,
   "metadata": {},
   "outputs": [
    {
     "name": "stdout",
     "output_type": "stream",
     "text": [
      "1255\n",
      "0\n",
      "1255\n",
      "115\n",
      "1255\n",
      "1255\n"
     ]
    }
   ],
   "source": [
    "#String query operations\n",
    "#Full list in in docs guide/querying.html\n",
    "print(Restaurants.objects.filter(cuisine=\"American \").count())\n",
    "print(Restaurants.objects.filter(cuisine__exact=\"american \").count())\n",
    "print(Restaurants.objects.filter(cuisine__iexact=\"american \").count())\n",
    "print(Restaurants.objects.filter(cuisine__icontains=\" American\").count())\n",
    "print(Restaurants.objects.filter(cuisine__startswith=\"American \").count())\n",
    "print(Restaurants.objects.filter(cuisine__istartswith=\"american \").count())"
   ]
  },
  {
   "cell_type": "code",
   "execution_count": 61,
   "metadata": {},
   "outputs": [],
   "source": [
    "from datetime import *"
   ]
  },
  {
   "cell_type": "code",
   "execution_count": 78,
   "metadata": {},
   "outputs": [
    {
     "name": "stdout",
     "output_type": "stream",
     "text": [
      "3760\n",
      "2843\n"
     ]
    }
   ],
   "source": [
    "#filter by numeric\n",
    "print(Restaurants.objects.filter(grades__score__gte=5).count())\n",
    "print(Restaurants.objects.filter(grades__score__lt=9).count())"
   ]
  },
  {
   "cell_type": "code",
   "execution_count": 85,
   "metadata": {},
   "outputs": [
    {
     "name": "stdout",
     "output_type": "stream",
     "text": [
      "778\n",
      "0\n",
      "1910\n"
     ]
    }
   ],
   "source": [
    "#Filter List Field\n",
    "print(Restaurants.objects.filter(grades__score__in=[5]).count())\n",
    "print(Restaurants.objects.filter(grades__score=[5]).count())\n",
    "print(Restaurants.objects.filter(grades__score__in=[5,6,7]).count())"
   ]
  },
  {
   "cell_type": "code",
   "execution_count": null,
   "metadata": {},
   "outputs": [],
   "source": []
  }
 ],
 "metadata": {
  "kernelspec": {
   "display_name": "Python 3",
   "language": "python",
   "name": "python3"
  },
  "language_info": {
   "codemirror_mode": {
    "name": "ipython",
    "version": 3
   },
   "file_extension": ".py",
   "mimetype": "text/x-python",
   "name": "python",
   "nbconvert_exporter": "python",
   "pygments_lexer": "ipython3",
   "version": "3.7.4"
  }
 },
 "nbformat": 4,
 "nbformat_minor": 2
}
